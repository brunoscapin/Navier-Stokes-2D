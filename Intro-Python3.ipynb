{
 "cells": [
  {
   "cell_type": "code",
   "execution_count": 1,
   "id": "86625620",
   "metadata": {},
   "outputs": [
    {
     "name": "stdout",
     "output_type": "stream",
     "text": [
      "Olá mundo\n"
     ]
    }
   ],
   "source": [
    "print(\"Olá mundo\")"
   ]
  },
  {
   "cell_type": "code",
   "execution_count": null,
   "id": "46712f91",
   "metadata": {},
   "outputs": [],
   "source": [
    "# Isto é um comentário."
   ]
  },
  {
   "cell_type": "code",
   "execution_count": 5,
   "id": "1ac15169",
   "metadata": {},
   "outputs": [
    {
     "name": "stdout",
     "output_type": "stream",
     "text": [
      "c =  11.4\n",
      "d =  100\n"
     ]
    }
   ],
   "source": [
    "# Declarar variáveis e operações básicas.\n",
    "\n",
    "a=2\n",
    "b=10\n",
    "\n",
    "c=(a+b-3*a/b)\n",
    "d=b**a\n",
    "\n",
    "print(\"c = \",c)\n",
    "print(\"d = \",d)"
   ]
  },
  {
   "cell_type": "code",
   "execution_count": 8,
   "id": "3eed163f",
   "metadata": {},
   "outputs": [],
   "source": [
    "# Importando bibliotecas.\n",
    "\n",
    "import numpy as np\n",
    "import matplotlib.pyplot as plt"
   ]
  },
  {
   "cell_type": "code",
   "execution_count": 12,
   "id": "19ee120b",
   "metadata": {},
   "outputs": [
    {
     "name": "stdout",
     "output_type": "stream",
     "text": [
      "[[0. 0. 0. 0. 0.]\n",
      " [0. 0. 0. 0. 0.]\n",
      " [0. 0. 0. 0. 0.]\n",
      " [0. 0. 0. 0. 0.]\n",
      " [0. 0. 0. 0. 0.]]\n"
     ]
    }
   ],
   "source": [
    "# Numpy:\n",
    "\n",
    "u = np.zeros((5,5))\n",
    "print(u)\n"
   ]
  },
  {
   "cell_type": "code",
   "execution_count": 13,
   "id": "0aec0a77",
   "metadata": {},
   "outputs": [
    {
     "name": "stdout",
     "output_type": "stream",
     "text": [
      "[[0.02777882 0.61238956 0.64011038 0.38614757 0.68978007]\n",
      " [0.82882871 0.23660675 0.09969017 0.25606966 0.43594914]\n",
      " [0.21703658 0.86562833 0.20440685 0.58554643 0.47845192]\n",
      " [0.78266807 0.11143786 0.66757611 0.58429548 0.56131942]\n",
      " [0.8768179  0.58567551 0.38398835 0.75556262 0.52948599]]\n"
     ]
    }
   ],
   "source": [
    "u_r = np.random.random((5,5))\n",
    "print(u_r)\n"
   ]
  },
  {
   "cell_type": "code",
   "execution_count": 16,
   "id": "d60d0ada",
   "metadata": {},
   "outputs": [
    {
     "name": "stdout",
     "output_type": "stream",
     "text": [
      "Em i=2 e j=3, u = 0.5855464326529164\n"
     ]
    }
   ],
   "source": [
    "u_23 = u_r[2,3]\n",
    "print(\"Em i=2 e j=3, u =\", u_23)"
   ]
  },
  {
   "cell_type": "code",
   "execution_count": 1,
   "id": "20895f86",
   "metadata": {},
   "outputs": [
    {
     "name": "stdout",
     "output_type": "stream",
     "text": [
      "0\n",
      "1\n",
      "2\n",
      "0\n"
     ]
    }
   ],
   "source": [
    "# Loops, condicionais\n",
    "\n",
    "v = [0,1,2,3]\n",
    "for i in v:\n",
    "    if i<=2: print(i)\n",
    "    else: print(0)\n",
    "    "
   ]
  },
  {
   "cell_type": "code",
   "execution_count": 3,
   "id": "b45e991a",
   "metadata": {},
   "outputs": [
    {
     "name": "stdout",
     "output_type": "stream",
     "text": [
      "60\n"
     ]
    }
   ],
   "source": [
    "# Funções\n",
    "\n",
    "def soma(a,b):\n",
    "    c=a+b\n",
    "    return c\n",
    "s = soma(5,55)\n",
    "print(s)\n"
   ]
  },
  {
   "cell_type": "code",
   "execution_count": null,
   "id": "371318fe",
   "metadata": {},
   "outputs": [],
   "source": []
  }
 ],
 "metadata": {
  "kernelspec": {
   "display_name": "Python 3 (ipykernel)",
   "language": "python",
   "name": "python3"
  },
  "language_info": {
   "codemirror_mode": {
    "name": "ipython",
    "version": 3
   },
   "file_extension": ".py",
   "mimetype": "text/x-python",
   "name": "python",
   "nbconvert_exporter": "python",
   "pygments_lexer": "ipython3",
   "version": "3.8.6"
  }
 },
 "nbformat": 4,
 "nbformat_minor": 5
}
